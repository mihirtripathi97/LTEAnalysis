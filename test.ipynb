{
 "cells": [
  {
   "cell_type": "code",
   "execution_count": 44,
   "metadata": {},
   "outputs": [],
   "source": [
    "import matplotlib.pyplot as plt\n",
    "import numpy as np\n",
    "from lteanalysis import LTEAnalysis\n",
    "from matplotlib import cm"
   ]
  },
  {
   "cell_type": "code",
   "execution_count": 2,
   "metadata": {},
   "outputs": [],
   "source": [
    "%matplotlib widget"
   ]
  },
  {
   "cell_type": "code",
   "execution_count": 3,
   "metadata": {},
   "outputs": [],
   "source": [
    "def cost_function(T, N, X, Y, model):\n",
    "\n",
    "    # print(\"printing params\", params)\n",
    "    N = N\n",
    "\n",
    "    T = T\n",
    "\n",
    "    X_predicted = model.get_intensity(line = 'c18o', Ju = 3, Ncol = N, Tex = T, delv = 0.5, Xconv = 1.e-7) # band 6\n",
    "    Y_predicted = model.get_intensity(line = 'c18o', Ju = 2, Ncol = N, Tex = T, delv = 0.5, Xconv = 1.e-7) # band 7\n",
    "\n",
    "    #print(f\"For T = {T}, N = {N:.2e}\")\n",
    "    #print(f\"Tb6 = {X_predicted}, Tb7 = {Y_predicted}\")\n",
    "\n",
    "\n",
    "    error = (X_predicted - X)**2 + (Y_predicted - Y)**2\n",
    "\n",
    "    #print(np.shape(error))\n",
    "    return error"
   ]
  },
  {
   "cell_type": "code",
   "execution_count": 28,
   "metadata": {},
   "outputs": [],
   "source": [
    "T = np.linspace(10, 50, 1000)\n",
    "lg_N = np.linspace(5,20,1000)\n",
    "\n",
    "tt, n = np.meshgrid(T,lg_N)\n",
    "#print(T)\n",
    "#print(10**(lg_N))"
   ]
  },
  {
   "cell_type": "code",
   "execution_count": 29,
   "metadata": {},
   "outputs": [],
   "source": [
    "# ----- input -----\n",
    "# for LTE calculation\n",
    "line  = 'c18o'\n",
    "Xconv = 1e-7\n",
    "delv  = 0.5 # km/s\n",
    "ilines = [3,2] # Ju\n",
    "Ncols = np.array([5.e16, 5.9e16, 5.e17]) # cm^-2  \n",
    "Texes = np.array([5, 18, 22, 30]) # K\n",
    "\n",
    "# Initiate Model\n",
    "\n",
    "lte_model = LTEAnalysis()\n",
    "lte_model.read_lamda_moldata(line)\n",
    "\n",
    "Z = np.zeros((len(T), len(lg_N)))\n",
    "\n",
    "\n",
    "for i in range(len(T)):\n",
    "\n",
    "    for j in range(len(lg_N)):\n",
    "\n",
    "\n",
    "        X_predicted = lte_model.get_intensity(line = 'c18o', Ju = 3, Ncol = 10**lg_N[j], Tex = T[i], delv = 0.5, Xconv = 1.e-7) # band 6\n",
    "        Y_predicted = lte_model.get_intensity(line = 'c18o', Ju = 2, Ncol = 10**lg_N[j], Tex = T[i], delv = 0.5, Xconv = 1.e-7) # band 7\n",
    "\n",
    "        # print(f\"For T = {T[i]}, N = {10**(lg_N[j]):.2e}\")\n",
    "        # print(f\"Tb6 = {X_predicted}, Tb7 = {Y_predicted}\")\n",
    "\n",
    "        Z[i, j] = cost_function(T[i], 10**(lg_N[j]), X = 10.1, Y = 10., model = lte_model)\n"
   ]
  },
  {
   "cell_type": "code",
   "execution_count": 40,
   "metadata": {},
   "outputs": [
    {
     "name": "stdout",
     "output_type": "stream",
     "text": [
      "18.68868868868869\n",
      "17.73273273273273\n",
      "10.10093874312323\n",
      "10.002497941115617\n"
     ]
    }
   ],
   "source": [
    "np.where(Z == np.min(Z))\n",
    "\n",
    "print(T[217])\n",
    "print(lg_N[848])\n",
    "\n",
    "print(lte_model.get_intensity(line = 'c18o', Ju = 3, Ncol = 10**lg_N[848], Tex = T[217], delv = 0.5, Xconv = 1.e-7))\n",
    "print(lte_model.get_intensity(line = 'c18o', Ju = 2, Ncol = 10**lg_N[848], Tex = T[217], delv = 0.5, Xconv = 1.e-7))"
   ]
  },
  {
   "cell_type": "code",
   "execution_count": null,
   "metadata": {},
   "outputs": [],
   "source": [
    "fig = plt.figure(figsize = (10,10))\n",
    "ax = plt.axes(projection='3d')\n",
    "cp = ax.plot_surface(n, tt, Z, cmap=cm.coolwarm, linewidth=10, antialiased=False)\n",
    "ax.set_xlabel('t')\n",
    "ax.set_ylabel('N')\n",
    "ax.set_zlabel('z')\n",
    "ax.set_zlim(-100,1000)\n",
    "fig.colorbar(cp, shrink=0.5, aspect=5)\n",
    "plt.show()"
   ]
  }
 ],
 "metadata": {
  "kernelspec": {
   "display_name": "Python 3",
   "language": "python",
   "name": "python3"
  },
  "language_info": {
   "codemirror_mode": {
    "name": "ipython",
    "version": 3
   },
   "file_extension": ".py",
   "mimetype": "text/x-python",
   "name": "python",
   "nbconvert_exporter": "python",
   "pygments_lexer": "ipython3",
   "version": "3.11.4"
  }
 },
 "nbformat": 4,
 "nbformat_minor": 2
}
