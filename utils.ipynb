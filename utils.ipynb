{
 "cells": [
  {
   "cell_type": "code",
   "execution_count": 2,
   "metadata": {},
   "outputs": [],
   "source": [
    "import numpy as np"
   ]
  },
  {
   "cell_type": "code",
   "execution_count": 3,
   "metadata": {},
   "outputs": [],
   "source": [
    "mco = 30*1.672e-27 # kg\n",
    "nu_0_21 = 219.5603541e9 # Hz\n",
    "c=3.0e8 #m/s\n",
    "k = 1.38e-23    # m2/kg2 K\n",
    "T = 10  # K"
   ]
  },
  {
   "cell_type": "code",
   "execution_count": 4,
   "metadata": {},
   "outputs": [
    {
     "name": "stdout",
     "output_type": "stream",
     "text": [
      "7417.811230071582\n"
     ]
    }
   ],
   "source": [
    "del_v = np.sqrt(2.*k*T/mco)\n",
    "\n",
    "print(del_v*100)   # in cm/s"
   ]
  },
  {
   "cell_type": "code",
   "execution_count": 5,
   "metadata": {},
   "outputs": [
    {
     "name": "stdout",
     "output_type": "stream",
     "text": [
      "7417.811230071582\n"
     ]
    }
   ],
   "source": [
    "nu_0_32 = 329.3305525e9\n",
    "\n",
    "del_v = np.sqrt(2.*k*T/mco)\n",
    "print(del_v*100)"
   ]
  }
 ],
 "metadata": {
  "kernelspec": {
   "display_name": "Python 3",
   "language": "python",
   "name": "python3"
  },
  "language_info": {
   "codemirror_mode": {
    "name": "ipython",
    "version": 3
   },
   "file_extension": ".py",
   "mimetype": "text/x-python",
   "name": "python",
   "nbconvert_exporter": "python",
   "pygments_lexer": "ipython3",
   "version": "3.11.4"
  }
 },
 "nbformat": 4,
 "nbformat_minor": 2
}
