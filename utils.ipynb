{
 "cells": [
  {
   "cell_type": "code",
   "execution_count": 1,
   "metadata": {},
   "outputs": [],
   "source": [
    "import numpy as np"
   ]
  },
  {
   "cell_type": "code",
   "execution_count": 2,
   "metadata": {},
   "outputs": [],
   "source": [
    "mco = 30*1.672e-27 # kg\n",
    "nu_0_21 = 219.5603541e9 # Hz\n",
    "c=3.0e8 #m/s\n",
    "k = 1.38e-23    # m2/kg2 K\n",
    "T = 20  # K"
   ]
  },
  {
   "cell_type": "code",
   "execution_count": 6,
   "metadata": {},
   "outputs": [
    {
     "name": "stdout",
     "output_type": "stream",
     "text": [
      "10490.369244690683\n"
     ]
    }
   ],
   "source": [
    "del_nu = nu_0_21*(np.sqrt(2.*k*T/mco))/c\n",
    "\n",
    "\n",
    "del_v = del_nu*c/nu_0_21\n",
    "\n",
    "print(del_v*100)"
   ]
  },
  {
   "cell_type": "code",
   "execution_count": 4,
   "metadata": {},
   "outputs": [
    {
     "name": "stdout",
     "output_type": "stream",
     "text": [
      "15735.077097341\n"
     ]
    }
   ],
   "source": [
    "nu_0_32 = 329.3305525e9\n",
    "\n",
    "del_nu = nu_0_32*(np.sqrt(2.*k*T/mco))/c\n",
    "del_v = del_nu*c/nu_0_21\n",
    "\n",
    "print(del_v*100)"
   ]
  }
 ],
 "metadata": {
  "kernelspec": {
   "display_name": "Python 3",
   "language": "python",
   "name": "python3"
  },
  "language_info": {
   "codemirror_mode": {
    "name": "ipython",
    "version": 3
   },
   "file_extension": ".py",
   "mimetype": "text/x-python",
   "name": "python",
   "nbconvert_exporter": "python",
   "pygments_lexer": "ipython3",
   "version": "3.11.4"
  }
 },
 "nbformat": 4,
 "nbformat_minor": 2
}
