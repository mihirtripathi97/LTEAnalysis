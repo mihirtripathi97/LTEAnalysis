{
 "cells": [
  {
   "cell_type": "code",
   "execution_count": 10,
   "metadata": {},
   "outputs": [],
   "source": [
    "import numpy as np"
   ]
  },
  {
   "cell_type": "code",
   "execution_count": 11,
   "metadata": {},
   "outputs": [],
   "source": [
    "mco = 30*1.672e-27\n",
    "nu_0_21 = 219.5603541e9\n",
    "c=3.0e8\n",
    "k = 1.38e-23\n",
    "T = 20"
   ]
  },
  {
   "cell_type": "code",
   "execution_count": 12,
   "metadata": {},
   "outputs": [
    {
     "name": "stdout",
     "output_type": "stream",
     "text": [
      "0.10490369244690684\n"
     ]
    }
   ],
   "source": [
    "del_nu = nu_0_21*(np.sqrt(2.*k*T/mco))/c\n",
    "\n",
    "\n",
    "del_v = del_nu*c/nu_0_21\n",
    "\n",
    "print(del_v/1000)"
   ]
  },
  {
   "cell_type": "code",
   "execution_count": 13,
   "metadata": {},
   "outputs": [
    {
     "name": "stdout",
     "output_type": "stream",
     "text": [
      "0.15735077097341\n"
     ]
    }
   ],
   "source": [
    "nu_0_32 = 329.3305525e9\n",
    "\n",
    "del_nu = nu_0_32*(np.sqrt(2.*k*T/mco))/c\n",
    "del_v = del_nu*c/nu_0_21\n",
    "\n",
    "print(del_v/1000)"
   ]
  }
 ],
 "metadata": {
  "kernelspec": {
   "display_name": "Python 3",
   "language": "python",
   "name": "python3"
  },
  "language_info": {
   "codemirror_mode": {
    "name": "ipython",
    "version": 3
   },
   "file_extension": ".py",
   "mimetype": "text/x-python",
   "name": "python",
   "nbconvert_exporter": "python",
   "pygments_lexer": "ipython3",
   "version": "3.11.4"
  }
 },
 "nbformat": 4,
 "nbformat_minor": 2
}
